{
 "cells": [
  {
   "cell_type": "markdown",
   "metadata": {},
   "source": [
    "# Growing Neural Modules"
   ]
  },
  {
   "cell_type": "markdown",
   "metadata": {},
   "source": [
    "## Import"
   ]
  },
  {
   "cell_type": "code",
   "execution_count": 1,
   "metadata": {},
   "outputs": [],
   "source": [
    "import jax\n",
    "import jax.numpy as jnp\n",
    "import numpy as np\n",
    "import mediapy\n",
    "import optax\n",
    "from cax.core.ca import CA, UnsupervisedCA\n",
    "from cax.core.perceive.dwconv_perceive import DWConvPerceive\n",
    "from cax.core.perceive.kernels import grad_kernel, identity_kernel\n",
    "from cax.core.state import state_to_alive\n",
    "from cax.core.update.nca_update import NCAUpdate\n",
    "from cax.nn.pool import Pool\n",
    "from cax.nn.vae import Encoder\n",
    "from datasets import load_dataset\n",
    "from flax import nnx\n",
    "from tqdm.auto import tqdm\n",
    "import matplotlib.pyplot as plt"
   ]
  },
  {
   "cell_type": "code",
   "execution_count": 34,
   "metadata": {},
   "outputs": [],
   "source": [
    "seed = 0\n",
    "n_classes = 10\n",
    "n_tasks = 2\n",
    "\n",
    "# Encode task or input into intial seed\n",
    "one_hot_seed_task = False\n",
    "one_hot_seed_input = True\n",
    "# Encode input into initial seed using encoder\n",
    "encode_seed = False\n",
    "\n",
    "seed_mode = np.argmax([one_hot_seed_task, one_hot_seed_input, encode_seed])\n",
    "\n",
    "assert not all(\n",
    "    [one_hot_seed_task, one_hot_seed_input, encode_seed]\n",
    "), \"Only one of the seed options should be True\"\n",
    "\n",
    "# Provide context to CA\n",
    "one_hot_context_task = True\n",
    "one_hot_context_input = False\n",
    "# Encode context using encoder\n",
    "encode_context = False\n",
    "\n",
    "context_mode = np.argmax([one_hot_context_task, one_hot_context_input, encode_context])\n",
    "\n",
    "assert not all(\n",
    "    [one_hot_context_task, one_hot_context_input, encode_context]\n",
    "), \"Only one of the context options should be True\"\n",
    "\n",
    "\n",
    "# encoder takes 2 images as input\n",
    "spatial_dims = (28, 28 * 2)\n",
    "features = (1, 32, 32)\n",
    "latent_size = 10\n",
    "\n",
    "channel_size = 32\n",
    "num_kernels = 3\n",
    "hidden_size = 512\n",
    "cell_dropout_rate = 0.5\n",
    "context_size = max(latent_size, n_tasks, n_classes)\n",
    "\n",
    "pool_size = 1_024\n",
    "batch_size = 8\n",
    "num_steps = 64\n",
    "learning_rate = 1e-3\n",
    "\n",
    "key = jax.random.PRNGKey(seed)\n",
    "rngs = nnx.Rngs(seed)\n",
    "\n",
    "tasks = {0: \"id_0\", 1: \"id_1\", 2: \"add\", 3: \"mul\", 4: \"sub\", 5: \"xor\"}"
   ]
  },
  {
   "cell_type": "code",
   "execution_count": 35,
   "metadata": {},
   "outputs": [],
   "source": [
    "def id_0(x, y):\n",
    "    return x\n",
    "\n",
    "\n",
    "def id_1(x, y):\n",
    "    return y\n",
    "\n",
    "\n",
    "def add(x, y):\n",
    "    return (x + y) % n_classes\n",
    "\n",
    "\n",
    "def mul(x, y):\n",
    "    return (x * y) % n_classes\n",
    "\n",
    "\n",
    "def sub(x, y):\n",
    "    return (x - y) % n_classes\n",
    "\n",
    "\n",
    "def xor(x, y):\n",
    "    return (x != y) % n_classes\n",
    "\n",
    "\n",
    "def get_task_switch(task, *operands):\n",
    "    return jax.lax.switch(task, [id_0, id_1, add, mul, sub, xor], *operands)"
   ]
  },
  {
   "cell_type": "markdown",
   "metadata": {},
   "source": [
    "## Dataset"
   ]
  },
  {
   "cell_type": "code",
   "execution_count": 36,
   "metadata": {},
   "outputs": [
    {
     "data": {
      "text/html": [
       "<table class=\"show_images\" style=\"border-spacing:0px;\"><tr><td style=\"padding:1px;\"><img width=\"64\" height=\"64\" style=\"image-rendering:pixelated; object-fit:cover;\" src=\"data:image/png;base64,iVBORw0KGgoAAAANSUhEUgAAABwAAAAcCAIAAAD9b0jDAAAB7ElEQVR4nO2UP8hxURjAz0VKittd/CuLwSDKICWDDEbdE5OyyMZksTEpg0ky3AwmC2VQdyAKpQwGA5IMhJXrT7crx32H2/flfT/vHzJ93/ebTj3P+XWenvM8APzn70EsFhO/SCQS6XS6Wq1qtdpSqcTzPMuyyWTyNl/ymUiv10ulUofD4XQ6cRz3+Xy30dVqlc1mIYSHw2E4HLbb7dsodtdotVqbzaZSqbwbvV6voVDodDoBADabzXa7nU6n39dLEMRsNkPv6fV6NE2zLMswzPeKu5AkWSgUIpGIYBwMBnK5HABgMpkoinpSCgBQKBQYhlEUhRAKBAI/vyj6Irbf73meF4oNh8Mi0VfJjyGXy1utFkLI4/G8TAoAMBgMDMMsFotisRiNRjHs/p95GAjhbrcTmhaPxzUazWu8ZrO5Xq8L3nw+r9PpXuPFcTwYDF4uF4RQo9F4jVSA4ziEEMdxLpfrbsKns/8nFovF7/fbbDaJRAIAGI/HnU7n+acZjcZcLrder3+P7Pl8pmn6SZ1arY7FYvP5/HYJ9Pt9r9f7jE6lUrnd7tFo9GGnQAifGS2CIMrl8oct1e12SZKUyWQP6+x2e6VSWS6Xt7rj8ZhKpYQV9UPedR9CCCEUzpPJpFarIYQymcxut3v4gf8wb5vwG2+h9UGFAAAAAElFTkSuQmCC\"/></td><td style=\"padding:1px;\"><img width=\"64\" height=\"64\" style=\"image-rendering:pixelated; object-fit:cover;\" src=\"data:image/png;base64,iVBORw0KGgoAAAANSUhEUgAAABwAAAAcCAIAAAD9b0jDAAAB8ElEQVR4nO3Su4vqQBQHYMfCgKQTCyGW2i0EA2JAsEwRy8Q/RLDQSrSwsjCdVUAIVjaxsxAfQcHGdJYaRDGFD7ASzjFbhCt7110f64Xb7K+bmZOPkzPj8fzm/4bjOFVVEVFV1Vgs9g9ElmV3ux38yXa7fVWMx+PL5RIRAWC/39u2DQA8z/t8vp9wfr8/mUwuFgsAcNHJZCJJkrssFArXn3jvovV6vdfrMQxz2YnFYjRN9/t9j8fz9vb2NMpxnCiKhBBCyGAwyOVyhJDNZjOdThVF8Xq9hJC7bf2VjzfTbrdpmhZFMZ/PB4NBtwARj8fjE88gGo1qmoaItm2bpilJ0nWNO2JN0x4SKYrSdR0ADoeDIAiBQODjTD+hw+HwIZTnefevU6nUjbLn0NFohIjdbvd2meM4iGgYxqf9L24/nU6zLOs4jq7rt9Hz+ew4jmma99uUZRkA1ut1KBT6roaiqEqlgoidToem6UfR+Xx+QyyXywBgWZYgCPfFC1qr1b48ZVlW0zQAaLVaD3FuMpkMIlqWdX2UzWZ3ux0iNhqNJ8RLp6fTSVEUlmXD4bAsy7quW5aFiPP5vNlsJhKJn6BuVqvVbDa7LA3DKJVKz3FuGIYZj8eu4j5vALBt+7spP5pQKFQsFi9otVqNRCIvib95Me/8RUrNjUX6NgAAAABJRU5ErkJggg==\"/></td><td style=\"padding:1px;\"><img width=\"64\" height=\"64\" style=\"image-rendering:pixelated; object-fit:cover;\" src=\"data:image/png;base64,iVBORw0KGgoAAAANSUhEUgAAABwAAAAcCAIAAAD9b0jDAAABlklEQVR4nO3Ur6vCUBQH8HMPY2BRFOQGRVgQ20wGDSIMRGxaZ1bw3zAJZpNJk02TwWRzOKMLKoJDQdtAUATZXhDU54/r3jC9975p9+zuc8/gcAH+8/sjSdJms4lEInd1vF0kk8lcLmcfjcViqqo+1r+hqVQqn8/bFBFREIRQKEQIYe2bz+etVssmGggETNNsNptvOkXExx2v0mg0AGA2m7FQURQppfZRj8cDAP1+n4Vms1mXy2VTpJQKggAA6/WahZ4nYzKZ2EFrtRqldDqd7na7x7fc3Xo0GjEst9udyWQKhUI6nQaASqViGMZ71OfzXZ6j0SgiSpIUDAZ5npdlGREPh4OiKMfjkeO48Xj89OzriNXr9VKpZBiGruvniiiKhJDT6bTf7zVNUxRFVdXBYLDdblerldfr5Xn+KXrttFwuL5fLRCJxqei63u12NU0bDoe33xSLRb/fv1gsnooO0263TdOsVquvNvxg2u/S6XQ+jzLiECWEhMPhD6OWZTEuCue/H4/HP4yy71AnaK/XsyzLWTd/IV/VrISFLCLl1wAAAABJRU5ErkJggg==\"/></td><td style=\"padding:1px;\"><img width=\"64\" height=\"64\" style=\"image-rendering:pixelated; object-fit:cover;\" src=\"data:image/png;base64,iVBORw0KGgoAAAANSUhEUgAAABwAAAAcCAIAAAD9b0jDAAABKElEQVR4nO3UoYrDQBAG4KGmFYWYQOSuq80DhLSEPEBtTIjsQ5Q8QXxERV4gD1ATEShxUTERiVvVRkQUKoZhTyyFg1PXzplyv979dmB/BuA/n5zj8UhEWuvtdssjJklyv98RkYh83/95YPECKoRYLpdvz/YtYRhO04SIXdcJIVar1bui53lKKURExDiOOYYEOJ1OREREVVXxiLZtExEi3m63IAgYRCll27YGTdOUQQSAw+FgOnQ+ny3LYhD3+/08z4hY17XjOAyilJKeKYqCQQSAPM/xmc1mwyC6rjuOoxHLsmQQAeB6vRrxcrms12se1HQIEaMo4hGLotBamy8SQjCIrusqpYjo8XhkWcawOABgt9uZtg/D8Nu7r+zT19G+75um+YsnPz5fGjKxvq7r4c4AAAAASUVORK5CYII=\"/></td><td style=\"padding:1px;\"><img width=\"64\" height=\"64\" style=\"image-rendering:pixelated; object-fit:cover;\" src=\"data:image/png;base64,iVBORw0KGgoAAAANSUhEUgAAABwAAAAcCAIAAAD9b0jDAAABk0lEQVR4nO3Ur6vCUBQH8DkUFGVYHCaLS/sHrhbBtKTGFYP/gEEQbAPBZBF0f4SaltQyEcRgXRFtaphgUhCD5+ALh2d5IPfKeMlvuwfu5x7uL0n65pv/D2PMtm3P8xARERuNhmmatm0zxj4UTdM8nU4AgIiu63qeBwA0HA6Hwlw4HM7n89frFQDm83mxWIxEIolEYjKZENpsNoXRWq1GTU2nU0VRqFitVqm43+9TqZSY2Ol0EBEA+v3+S5QkabPZEFqpVMREy7IQ8X6/O44Ti8WoGI1Gy+Xy7XZDxHa7LSYmk0k6GcdxXkVN09brNfU4Go3i8bgYqqoqTc5kMqqqtlqt1Wp1uVxoNx6PR6lUEhOpU9/36XzhN4fD4Xg8AoDv+8IihTF2Pp8RcbvddrtdXdfT6fRisQCAXq/3Ifo3hULh+XwiYr1eDww1DIN2Q/huvg8/KnOKhmHwL8+LZrPZ4NHlcinLcigU4qe5stvtACCXywWJ0qfluq6u64GhiqLMZjMAGI/Hwm//vTsYDAAgyGY58wOibf6AWXkq6wAAAABJRU5ErkJggg==\"/></td><td style=\"padding:1px;\"><img width=\"64\" height=\"64\" style=\"image-rendering:pixelated; object-fit:cover;\" src=\"data:image/png;base64,iVBORw0KGgoAAAANSUhEUgAAABwAAAAcCAIAAAD9b0jDAAACI0lEQVR4nO2Uv+txURzHj8ev8pvCJAllMVAsLJQiJYuwWSgGExvKxGKxsLDYyMId5A9ASZSFUtS9RZbb9SPRuXmG2yP1jS+e5Xnq+5rOvfec131/zr2fA8AP/wW0t2bz+Xwej+d2u2UyWaFQOJ/Pf/VylUpVKpUmkwn8Q7FY/Fyn0+nK5fLhcIAQkiS5Wq2m0ymEcLPZ6HS6t3VCobBcLuM4fks3m82USqVWq6UurVbr29JQKATvmM/nCoUCAPCt9NcTqc/nowar1arRaDgcDhRFAQDfVs148iwcDkcikW63u1gsttvt7b5cLn8u/YRKpfK8/GdJ74nH41wul0ajXa9XvV4PAOj1ev1+/5NQHA7HZDK1222SJEmSvF6v1ADDMLVa/baOyWSazWYURSGE+/0ew7B6vb7b7ajC1+t1MplksVhvGFkslsfjodan02mLxQIAkEgk9x0FIfT7/Ww2+9WMuVyOWoYgiEgkAgBIpdLhcEiS5Ol0ymazzWaTmtDpdOx2u8FgMBgMD410Oj2fz0MICYKIxWJisRgAYDKZBoMB1VE2mw0AIBAInE5nrVYjCIKyL5fLh9JoNAoh3O12gUBAIpG4XK56vU41fiaToTrqnmAwiCAIgiBarfahdL1eQwiPx+NoNJrNZrftS6VSdDr9pe37yng8vv8UrVYrkUhoNBoG49U/Gnw9pPl8vtfrNRqN2+22Wq3iOH65XD4M+MO/zm/rjlZeqOP2ZwAAAABJRU5ErkJggg==\"/></td><td style=\"padding:1px;\"><img width=\"64\" height=\"64\" style=\"image-rendering:pixelated; object-fit:cover;\" src=\"data:image/png;base64,iVBORw0KGgoAAAANSUhEUgAAABwAAAAcCAIAAAD9b0jDAAAA4UlEQVR4nO2RLQ6EMBBGW7IKxQmABIdBYbHcBMUVOASOcByuQPgJDk2QuJnOCjZImCaTYPZTI15fp/2U+ueV1HVNRH3fB0EgYwzDcN93RASAPM85R5xHYtu2ruus9niWHsexrquw1PO8JEmEpa7r+r5/zmmainVVVdVZFACUZSkjVUpZSZ+f/+McR2uttebAH6bUGENE3A2YnFVelV5/mmWZ2OVX+wAQx/HDBkxp0zTXXBSFjHSeZyZpl2VZEBERiSiKohvSov1hGIiIiIwx96SFtG1bJmkhHcdxmiY+/49kvjUxasl01AsRAAAAAElFTkSuQmCC\"/></td><td style=\"padding:1px;\"><img width=\"64\" height=\"64\" style=\"image-rendering:pixelated; object-fit:cover;\" src=\"data:image/png;base64,iVBORw0KGgoAAAANSUhEUgAAABwAAAAcCAIAAAD9b0jDAAAB4UlEQVR4nO2UMa/BUBTHbwVlqTBZmpgs1YFNECSkCT6ARC0MjcHuO9gsjUE/ARIGIiLxASSasFhEEAODpB1KcqVvuEmfV9X3+saX95vuPe393/859+QA8M8fIRgMUhRVq9VUVX18pd/vO51Oa3IURTWbzd1ut9/vIYSPxwO+IAgCQRAWRIfD4fN5Q1EIYSwW0x20m4hOp9NcLgcAOJ/PgiBgGKaqKgAgGo0mk0lrWX9eaLeTJEmSpN/vf44TBIEKAiHsdrs4jltwCiE8HA6vcYZhvF4vWh+Px/v9/kvXGsVicTabaQW19kqvlEql9XqtKIqmuFgs3G73659m6QcCgXK5nMlk0DYej6OHAgBIktRoNEajkaIoFnzRNL3dbt+11GAwMDlrM/mGfcVms2nrQqGAus2Qt+mvVqtUKsWy7GQyud1uWrxardbrddMkrePxeFAFTJyapW8IwzC/8eJwOPL5vGGvVCoVSZK+daonkUiMx2MIIUmSz3Gfz8ey7PV6RYqyLKfT6XcimG4vimIoFAIA8Dwvy7IWz2azkUgE9el8Pud5vtfr/dSpKIqG8w316el0arfbLpfrp3KIcDjc6XR0cpvNZrlctlotmqatyWngOM5x3OVyQZON4zjd6PvHnA+P6FdO5na6vgAAAABJRU5ErkJggg==\"/></td></tr></table>"
      ],
      "text/plain": [
       "<IPython.core.display.HTML object>"
      ]
     },
     "metadata": {},
     "output_type": "display_data"
    }
   ],
   "source": [
    "ds = load_dataset(\"ylecun/mnist\")\n",
    "\n",
    "image_train = jnp.expand_dims(\n",
    "    jnp.array(ds[\"train\"][\"image\"], dtype=jnp.float32) / 255, axis=-1\n",
    ")\n",
    "image_test = jnp.expand_dims(\n",
    "    jnp.array(ds[\"test\"][\"image\"], dtype=jnp.float32) / 255, axis=-1\n",
    ")\n",
    "\n",
    "label_train = jnp.array(ds[\"train\"][\"label\"])\n",
    "label_test = jnp.array(ds[\"test\"][\"label\"])\n",
    "\n",
    "state_shape = image_train.shape[1:3] + (channel_size,)\n",
    "mid = (size // 2 for size in state_shape[:-1])\n",
    "\n",
    "mediapy.show_images(image_train[:8], width=64, height=64)"
   ]
  },
  {
   "cell_type": "code",
   "execution_count": 37,
   "metadata": {},
   "outputs": [
    {
     "data": {
      "text/plain": [
       "(60000, 28, 28, 1)"
      ]
     },
     "execution_count": 37,
     "metadata": {},
     "output_type": "execute_result"
    }
   ],
   "source": [
    "image_train.shape"
   ]
  },
  {
   "cell_type": "code",
   "execution_count": 38,
   "metadata": {},
   "outputs": [],
   "source": [
    "mediapy.write_image(\"image.png\", jnp.squeeze(image_train[0]))"
   ]
  },
  {
   "cell_type": "markdown",
   "metadata": {},
   "source": [
    "## Init state"
   ]
  },
  {
   "cell_type": "code",
   "execution_count": 39,
   "metadata": {},
   "outputs": [],
   "source": [
    "def get_problem(key, target_1, target_2, task):\n",
    "    key, subkey = jax.random.split(key)\n",
    "    # print(target_1, target_2)\n",
    "    target = get_task_switch(task, target_1, target_2)\n",
    "    # print(target)\n",
    "    # target_indexes = jnp.where(label_train == target)[0]\n",
    "    target_matches = jnp.where(label_train == target, size=len(label_train))[0]\n",
    "\n",
    "    # Use dynamic_slice to get a single random index\n",
    "    random_index = jax.random.randint(subkey, (), 0, jnp.sum(label_train == target))\n",
    "    target_index = jax.lax.dynamic_slice(target_matches, (random_index,), (1,))[0]\n",
    "\n",
    "    # print(target_index)\n",
    "    return target_index, target"
   ]
  },
  {
   "cell_type": "code",
   "execution_count": 40,
   "metadata": {},
   "outputs": [],
   "source": [
    "def init_state(key, ca=None):\n",
    "\n",
    "    key, input_key, task_key, problem_key, encode_key = jax.random.split(key, 5)\n",
    "\n",
    "    state_shape = image_train.shape[1:3] + (channel_size,)\n",
    "    state = jnp.zeros(state_shape)\n",
    "    mid = tuple(size // 2 for size in state_shape[:-1])\n",
    "\n",
    "    input_index = jax.random.choice(\n",
    "        input_key, image_train.shape[0], shape=(2,), replace=False\n",
    "    )\n",
    "    task = jax.random.choice(task_key, n_tasks)\n",
    "\n",
    "    labels = label_train[input_index]\n",
    "    target_index, task_label = get_problem(problem_key, *labels, task)\n",
    "\n",
    "    # Set the \"alive\" cell\n",
    "    state = state.at[mid + (channel_size - 1,)].set(1.0)\n",
    "\n",
    "    def one_hot_seed_input(state):\n",
    "        # print(\"One hot seed input\")\n",
    "        # encode targets into state\n",
    "        one_hot_1 = jax.nn.one_hot(labels[0], num_classes=n_classes)\n",
    "        one_hot_2 = jax.nn.one_hot(labels[1], num_classes=n_classes)\n",
    "        # Set the one-hot encoded labels\n",
    "        state = state.at[\n",
    "            mid + (slice(channel_size - n_classes - 1, channel_size - 1),)\n",
    "        ].set(one_hot_1)\n",
    "\n",
    "        # If you want to set the second label as well, uncomment and adjust the following line:\n",
    "        state = state.at[\n",
    "            mid\n",
    "            + (slice(channel_size - 2 * n_classes - 1, channel_size - n_classes - 1),)\n",
    "        ].set(one_hot_2)\n",
    "\n",
    "    def one_hot_seed_task(state):\n",
    "        # print(\"One hot seed task\")\n",
    "        # encode task into state\n",
    "        one_hot_task = jax.nn.one_hot(task, num_classes=n_tasks)\n",
    "        state = state.at[\n",
    "            mid + (slice(channel_size - n_tasks - 1, channel_size - 1),)\n",
    "        ].set(one_hot_task)\n",
    "\n",
    "    def encode_seed(state):\n",
    "        # print(\"Encode seed\")\n",
    "        if ca is not None:\n",
    "            # encode input into state\n",
    "            inputs = image_train[input_index]\n",
    "            print(inputs.shape)\n",
    "            input = jnp.concatenate([inputs[0], inputs[1]], axis=-2)\n",
    "            target_enc = ca.encode(input, encode_key)\n",
    "            try:\n",
    "                state = state.at[\n",
    "                    mid + (slice(channel_size - n_classes - 1, channel_size - 1),)\n",
    "                ].set(target_enc)\n",
    "            except:\n",
    "                pass\n",
    "\n",
    "    jax.lax.switch(\n",
    "        seed_mode, [one_hot_seed_task, one_hot_seed_input, encode_seed], state\n",
    "    )\n",
    "\n",
    "    return {\n",
    "        \"state\": state,\n",
    "        \"target_index\": target_index,\n",
    "        \"task\": task,\n",
    "        \"task_label\": task_label,\n",
    "        \"input_index\": input_index,\n",
    "        \"input_labels\": labels,\n",
    "    }"
   ]
  },
  {
   "cell_type": "code",
   "execution_count": 41,
   "metadata": {},
   "outputs": [
    {
     "data": {
      "text/plain": [
       "np.int64(1)"
      ]
     },
     "execution_count": 41,
     "metadata": {},
     "output_type": "execute_result"
    }
   ],
   "source": [
    "seed_mode"
   ]
  },
  {
   "cell_type": "markdown",
   "metadata": {},
   "source": [
    "## Model"
   ]
  },
  {
   "cell_type": "code",
   "execution_count": 42,
   "metadata": {},
   "outputs": [],
   "source": [
    "def get_model():\n",
    "    encoder = Encoder(spatial_dims, features, latent_size, rngs)\n",
    "    perceive = DWConvPerceive(channel_size, rngs)\n",
    "    update = NCAUpdate(\n",
    "        channel_size,\n",
    "        context_size + num_kernels * channel_size,\n",
    "        (hidden_size,),\n",
    "        rngs,\n",
    "        cell_dropout_rate=cell_dropout_rate,\n",
    "    )\n",
    "    kernel = jnp.concatenate([identity_kernel(ndim=2), grad_kernel(ndim=2)], axis=-1)\n",
    "    kernel = jnp.expand_dims(jnp.concatenate([kernel] * channel_size, axis=-1), axis=-2)\n",
    "    perceive.dwconv.kernel = nnx.Param(kernel)\n",
    "    ca = UnsupervisedCA(perceive, update, encoder)\n",
    "    params = nnx.state(ca, nnx.Param)\n",
    "    print(\n",
    "        \"Number of params:\",\n",
    "        jax.tree_util.tree_reduce(lambda x, y: x + y.size, params, 0),\n",
    "    )\n",
    "    return ca"
   ]
  },
  {
   "cell_type": "markdown",
   "metadata": {},
   "source": [
    "### Pool"
   ]
  },
  {
   "cell_type": "code",
   "execution_count": 43,
   "metadata": {},
   "outputs": [],
   "source": [
    "def get_pool(key, ca=None):\n",
    "\n",
    "    key, subkey = jax.random.split(key)\n",
    "\n",
    "    keys = jax.random.split(subkey, pool_size)\n",
    "    new_data = jax.vmap(\n",
    "        lambda key: init_state(\n",
    "            key,\n",
    "            ca,\n",
    "        )\n",
    "    )(keys)\n",
    "\n",
    "    pool = Pool.create(**new_data)\n",
    "    return pool"
   ]
  },
  {
   "cell_type": "markdown",
   "metadata": {},
   "source": [
    "### Optimizer"
   ]
  },
  {
   "cell_type": "code",
   "execution_count": 44,
   "metadata": {},
   "outputs": [],
   "source": [
    "def get_optimizer(ca):\n",
    "    lr_sched = optax.linear_schedule(\n",
    "        init_value=learning_rate,\n",
    "        end_value=0.1 * learning_rate,\n",
    "        transition_steps=50_000,\n",
    "    )\n",
    "    optimizer = optax.chain(\n",
    "        optax.clip_by_global_norm(1.0),\n",
    "        optax.adam(learning_rate=lr_sched),\n",
    "    )\n",
    "    grad_params = nnx.All(\n",
    "        nnx.Param, nnx.Any(nnx.PathContains(\"update\"), nnx.PathContains(\"encoder\"))\n",
    "    )\n",
    "    optimizer = nnx.Optimizer(ca, optimizer, wrt=grad_params)\n",
    "    return optimizer, grad_params"
   ]
  },
  {
   "cell_type": "markdown",
   "metadata": {},
   "source": [
    "## Train"
   ]
  },
  {
   "cell_type": "markdown",
   "metadata": {},
   "source": [
    "### Loss"
   ]
  },
  {
   "cell_type": "code",
   "execution_count": 45,
   "metadata": {},
   "outputs": [],
   "source": [
    "def mse(state, target):\n",
    "    return jnp.mean(jnp.square(state_to_alive(state) - target))\n",
    "\n",
    "\n",
    "@nnx.jit\n",
    "def loss_fn(ca, state, target, context, key):\n",
    "\n",
    "    key, randint_key = jax.random.split(key)\n",
    "\n",
    "    state = nnx.vmap(\n",
    "        lambda state, input: ca(state, input, num_steps=num_steps, all_steps=True)\n",
    "    )(state, context)\n",
    "\n",
    "    index = jax.random.randint(\n",
    "        randint_key, (state.shape[0],), num_steps // 2, num_steps\n",
    "    )\n",
    "    state = state[jnp.arange(state.shape[0]), index]\n",
    "\n",
    "    loss = mse(state, target)\n",
    "    # Add regularization loss to avoid null outputs\n",
    "\n",
    "    regularization_loss = jnp.mean(jnp.square(state_to_alive(state)))\n",
    "    loss += 1e-2 * regularization_loss\n",
    "\n",
    "    return loss, state"
   ]
  },
  {
   "cell_type": "markdown",
   "metadata": {},
   "source": [
    "### Train Step"
   ]
  },
  {
   "cell_type": "code",
   "execution_count": 46,
   "metadata": {},
   "outputs": [],
   "source": [
    "@nnx.jit\n",
    "def train_step(ca, optimizer, pool, key, batch_size=batch_size):\n",
    "    sample_key, init_state_key, loss_key, encode_key = jax.random.split(key, 4)\n",
    "\n",
    "    # Sample from pool\n",
    "    pool_index, sample = pool.sample(sample_key, sample_size=batch_size)\n",
    "\n",
    "    current_data = {k: sample[k] for k in sample.keys()}\n",
    "    current_target = image_train[current_data[\"target_index\"]]\n",
    "\n",
    "    # Sort by descending loss\n",
    "    sort_index = jnp.argsort(\n",
    "        jax.vmap(mse)(current_data[\"state\"], current_target), descending=True\n",
    "    )\n",
    "    pool_index = pool_index[sort_index]\n",
    "    current_data = {k: current_data[k][sort_index] for k in current_data.keys()}\n",
    "\n",
    "    # Sample a new target to replace the worst\n",
    "    new_data = init_state(init_state_key, ca)\n",
    "\n",
    "    for k in current_data.keys():\n",
    "        current_data[k] = current_data[k].at[0].set(new_data[k])\n",
    "\n",
    "    current_target = image_train[current_data[\"target_index\"]]\n",
    "    current_label = label_train[current_data[\"input_index\"]]\n",
    "    current_task = current_data[\"task\"]\n",
    "\n",
    "    current_inputs = image_train[current_data[\"input_index\"]]\n",
    "    current_input = jnp.concatenate(\n",
    "        [current_inputs[:, 0], current_inputs[:, 1]], axis=-2\n",
    "    )\n",
    "    # current_input = image_train[current_data[\"input_index\"]][:, 0]\n",
    "    print(current_input.shape)\n",
    "\n",
    "    def encode_context():\n",
    "        if ca is not None:\n",
    "            context = ca.encode(current_input, encode_key)\n",
    "            context = jnp.concatenate(\n",
    "                [context, jnp.zeros((batch_size, context_size - latent_size))], axis=-1\n",
    "            )\n",
    "        else:\n",
    "            context = jnp.zeros((batch_size, context_size))\n",
    "\n",
    "        return context\n",
    "\n",
    "    def one_hot_label():\n",
    "        context = jax.nn.one_hot(\n",
    "            current_label[:, 0], num_classes=n_classes\n",
    "        ) + jax.nn.one_hot(current_label[:, 1], num_classes=n_classes)\n",
    "        \n",
    "        context = jnp.concatenate(\n",
    "            [context, jnp.zeros((batch_size, context_size - n_classes))], axis=-1\n",
    "        )\n",
    "        return context\n",
    "\n",
    "    def one_hot_task():\n",
    "        context = jax.nn.one_hot(current_task, num_classes=n_tasks)\n",
    "        context = jnp.concatenate(\n",
    "            [context, jnp.zeros((batch_size, context_size - n_tasks))], axis=-1\n",
    "        )\n",
    "        return context\n",
    "\n",
    "    context = jax.lax.switch(\n",
    "        context_mode,\n",
    "        [one_hot_task, one_hot_label, encode_context],\n",
    "    )\n",
    "\n",
    "    (loss, current_state), grad = nnx.value_and_grad(\n",
    "        loss_fn, has_aux=True, argnums=nnx.DiffState(0, grad_params)\n",
    "    )(ca, current_data[\"state\"], current_target, context, loss_key)\n",
    "\n",
    "    current_data[\"state\"] = current_state\n",
    "\n",
    "    optimizer.update(grad)\n",
    "\n",
    "    pool = pool.add(pool_index, **current_data)\n",
    "\n",
    "    return loss, pool"
   ]
  },
  {
   "cell_type": "code",
   "execution_count": 47,
   "metadata": {},
   "outputs": [
    {
     "data": {
      "text/plain": [
       "np.int64(0)"
      ]
     },
     "execution_count": 47,
     "metadata": {},
     "output_type": "execute_result"
    }
   ],
   "source": [
    "context_mode"
   ]
  },
  {
   "cell_type": "markdown",
   "metadata": {},
   "source": [
    "## Visualize targets"
   ]
  },
  {
   "cell_type": "code",
   "execution_count": 48,
   "metadata": {},
   "outputs": [
    {
     "data": {
      "text/html": [
       "<table class=\"show_images\" style=\"border-spacing:0px;\"><tr><td style=\"padding:1px;\"><div style=\"display:flex; align-items:left;\">\n",
       "      <div style=\"display:flex; flex-direction:column; align-items:center;\">\n",
       "      <div>id_0 3 6</div><div><img width=\"128\" height=\"128\" style=\"image-rendering:pixelated; object-fit:cover;\" src=\"data:image/png;base64,iVBORw0KGgoAAAANSUhEUgAAABwAAAAcCAIAAAD9b0jDAAACCElEQVR4nO2UP+gxYRzAH29isKm7skidMllkkpThhstgkD+jyEoWGdSNVyZ1Mshoo8stFlGSzi3qYlViQDEhxfO4d7jfe+l+wuvVO/0+27fvPZ/n+9z3eb4A/PAf0Ov1JEmWy+Xr9cpxnCiKCCGEUL/fz2azOI6/I02lUhBCCCFCCN6ghLPZLJlM/rWUoqjVatXpdLA/5HK51Wq1Xq9PpxOE8HQ6lUqld+q9Sz6fVwv/jNFsNguCoBjr9fq/6kwmUzQalWVZ6ZggCGaz+U2Xy+UKh8Ptdns8HquNEkURw7DHC3Wa2O12BwIBAEAsFrNarUajUU1xHMfzfKvVOh6Pj6V6TVwsFn0+39eGOp0sy7dZWZYxDHsq1VaayWTsdjsAYDqdDgYDAEA8Hg8GgwRBKHtst1tJknier1Qqj9XPcTqdhUJhMpmcz2f1gZEkqddrz/oOHo+nWq2qfWMY5gNSAIDBYPD7/dvtFkJ4uVwikchnvAAAm8222+0ghN1uV5P69f3rRCJBEMRT6Xw+lyTp1RI2m02tVru9oXexWCzKVOz1es+lw+EQQjgajSKRyPfHY7fbcRwPh8PL5VKZA+l0+rmUoijlZyGEdrsdwzA0TYdCIYfDQdP0er1WsxDCRqPx9ExfYBjWbDbvDmmV/X6fTqdfNap4vV6WZQ+Hg0a6WCxYln2lmT98jN/w+2G7BEJwWQAAAABJRU5ErkJggg==\"/></div></div></div></td><td style=\"padding:1px;\"><div style=\"display:flex; align-items:left;\">\n",
       "      <div style=\"display:flex; flex-direction:column; align-items:center;\">\n",
       "      <div>id_1 8 8</div><div><img width=\"128\" height=\"128\" style=\"image-rendering:pixelated; object-fit:cover;\" src=\"data:image/png;base64,iVBORw0KGgoAAAANSUhEUgAAABwAAAAcCAIAAAD9b0jDAAACFElEQVR4nO2Tv8tpcRzHv45OZxBhOZ2ns8jEgGRU59j4F4QsDAYDg2KR1SalDJyyUgZnkMFJsogikZKUJDqkDvlRvu6g+yTPY3Dus9zbfU3fPu8+r74/Pl8A/vPXQ5JkLBY7nU4QwtvtNp1OWZbNZDIGgwFBkLd1GIbFYrHdbgchPJ1OPp+PoqhQKBQKhRqNBoQwm82+LVUqld1ut9Pp4DiOYdhjJJFIjEZjv98vFouv2r8/xW63EwQhmUyuVqvz+fwY3W63Xq9XqVQ+Pj7ekwIABEHQaDTfRiiKBgKB2Wz2qvclkUhkv9+TJPk1CofDPM/LZLK3pTiOTyaTeDwukUge62azebPZeDyet413LBbLfr/XarWflWg0er1e8/m8VCoVKQUAWK3W0Whks9kQBIlGo5fLxev1oigq3njHbrcfDgeO4+bzud/vf7oN8cTjcQhhoVD4GR0AQKVSrdfrarV6OBxqtZpOp/sBaSqVGo/HKIrSNF0ul3meDwaDf/RQAIBcLtdut+9rqVTqcrmWyyXDMGLm9JNms1kqlR4rJElyHDcYDPR6vUgpy7K9Xu+pqFAo0un0dDqlaVqM1Gw2L5fLr/9VLpfX6/VWqyVmbFEUHQwGjUaDIIinyO128zyvVqvFbJYgiMViMRwOHQ4HRVE6nc5kMiUSiePx6HQ6xRjv6PV6hmEEQYC/2W63gUBAvPHf5RfiReh5duHTwwAAAABJRU5ErkJggg==\"/></div></div></div></td><td style=\"padding:1px;\"><div style=\"display:flex; align-items:left;\">\n",
       "      <div style=\"display:flex; flex-direction:column; align-items:center;\">\n",
       "      <div>id_0 3 4</div><div><img width=\"128\" height=\"128\" style=\"image-rendering:pixelated; object-fit:cover;\" src=\"data:image/png;base64,iVBORw0KGgoAAAANSUhEUgAAABwAAAAcCAIAAAD9b0jDAAAB4ElEQVR4nO2UL6jqYBTAhw5mUFCWtDkQg2BTszYNK1pmVjAaTHbRtCDCiiAYTMINA7EYBJsiJlEY2hz+mQymc8Pz4Qtyh+/pVa/e8uD+2sd3zo9zDoeDYb88gqbp0+nU6/UoijKZTO/qrFZrKpVSFAUhBAAAwPN8Mpl83ZhOp6fT6dllSAFAUZRSqfSilOd5Q4QQOhwOi8XieDwCgK7r7Xb7FakoimfjYDAoFovhcBjDsEQiUavVZFnWNI1hmG9Lu92uJEnxeJwgiH++stksAIxGo5uJ+B1pLBYjCGK73Z6fZrMZx3Ecx6PRaCgU+naNNykUCuPxWNM0Y9BfVfosTqdzuVzCBbvdLhgM3gx+dpMzmQxJkn9lmkz7/f6tSmmaFgRBEIR6vd5qtVRVRQghhCKRyFveS/L5/HkILMv+mNRut1cqFQD4+Pj4ManFYnG73QAwmUwcDse90FwuFwgEHho9Hk+z2Ty3v16vXS7Xl6FWq7Xf74ui2Ol0GIYhSdLr9Rq/zCflcnm1WhmL9eCyUBR1uYabzUaWZfGTyytlMJvNKIq6J7XZbMPh8Drz+vQBgCRJHMc9HBSGYZjf769Wq7qu35GqqspxnM/ne8powDBMo9G4ls7nc5ZlH/T7y//EH+YDkTuvPR5cAAAAAElFTkSuQmCC\"/></div></div></div></td><td style=\"padding:1px;\"><div style=\"display:flex; align-items:left;\">\n",
       "      <div style=\"display:flex; flex-direction:column; align-items:center;\">\n",
       "      <div>id_0 3 5</div><div><img width=\"128\" height=\"128\" style=\"image-rendering:pixelated; object-fit:cover;\" src=\"data:image/png;base64,iVBORw0KGgoAAAANSUhEUgAAABwAAAAcCAIAAAD9b0jDAAABsElEQVR4nO2Tv48BQRTHZy6iEBsKskwyoZdYQr8dCoWCbpU6zTYa8QdIlBQ0ovZfSPyoiCj4AzYRDRNEIox3xebchjv21lWX+3Yv895n3nvfGYT+9UdECFFVVVVVAJjP54FA4GkJ/g40HA4xxgBgt9u9Xi9CCGN8OBzG43G9XkcIdbvdn3VHKT2fz5zzs0E34WAwSKVSgiCYhRJCNpvNY6geNhoNs+MjhGRZjkajlUrF5XJ1Op3ZbHY9yufzkiTpy1kul+l0ejqd/mwV91IUhXMOAJxzTdMkSXoJRynt9Xq73e46vm6adRFCRqORcaer1SoUClnE2Ww2SulkMjEaxRhLJpMWicFgsNls3rsvy7IVXCwWa7fb/EO6M5xzxpgVosPhyOVy6/X6/mG2Wi2fz2elxy9/lKZpiUTC6XQ+LX8zf9N+v4/H46fT6Wnm7Y+KRCKKogiC4PF4MpkMAHymYgwA1Wq1XC6bb+Vbud3uWq12NSqbzT7ONzU+Y2y73V4uFwAAgHA4/AtQURQLhYLxjlehoigWi0W/36+Hx+NxsViYaeWR+v2+8Z2WSqVXiX9d7yG8Wee3e/dCAAAAAElFTkSuQmCC\"/></div></div></div></td><td style=\"padding:1px;\"><div style=\"display:flex; align-items:left;\">\n",
       "      <div style=\"display:flex; flex-direction:column; align-items:center;\">\n",
       "      <div>id_1 2 4</div><div><img width=\"128\" height=\"128\" style=\"image-rendering:pixelated; object-fit:cover;\" src=\"data:image/png;base64,iVBORw0KGgoAAAANSUhEUgAAABwAAAAcCAIAAAD9b0jDAAABaElEQVR4nO2UvaqCYBjH36NRVoRDTSGCS4Mg1BCId+BdtDi6eA/eQffgIC16Bw1S4OLgJDmI9DFIkKlIRmfzyDnw+hWcpd/2PP75vQ8+vC8AH/6d6XR6u91s24ZkkLpSgiCyLNM0rcVgf+A4zrbtwWDwTul2uw2CoNfrvc1IUdTxeJzP5/BYyT9lGGaxWOQlSZLn8/lwODSfq9vtrtfr4XCYd+73u67rxU7tSSeTSRzHURTlncvlwrIsSZLNpf1+/3q95qUsyxRFeZ6Xpmlz6Xg8fj6feYlhGADAMIzT6QSXdiDfRFEMguBX0zTNJEmaT7rZbHie/zm/0wEAuK4LN5aAIIgkSYIg0DQty3Icx2EY4jjeSgoAwHFcVdXH4xGG4W63K+4NwldpAkXR5XI5Go1WqxVN08W70BaWZV+vl2VZVcKw7RfxfX+/3zuOUyVc9T31fV9RlIrhGo909b3XkM5ms+rhD2/mGxIDfddUw5ZuAAAAAElFTkSuQmCC\"/></div></div></div></td><td style=\"padding:1px;\"><div style=\"display:flex; align-items:left;\">\n",
       "      <div style=\"display:flex; flex-direction:column; align-items:center;\">\n",
       "      <div>id_0 5 0</div><div><img width=\"128\" height=\"128\" style=\"image-rendering:pixelated; object-fit:cover;\" src=\"data:image/png;base64,iVBORw0KGgoAAAANSUhEUgAAABwAAAAcCAIAAAD9b0jDAAABwUlEQVR4nO2SrcvyUBiHzzs/Nk2KqGASWRD8AlEEEeuCyaBJg4j/gdmgIIhN0CQYhGE0WKwrTpsMxOBXEEQ4i4MJnvmEgY/o+0532gte6Zxx39d+cH4AfPnyAQzDVCoVURQVRbndboqi9Pv9ZDKpWxQMBgeDAc/zPM+LooheOJ1ONE0/bRk1jNlslmVZs9n8+HG9Xvd6PfVcLBbj8bjFYtERs91u3xONRqNOp0OSpMlk+k1kNJIkSRCEbqksy81m8ykvJi6Xaz6fI4R2u53e3X8mt9vtsVgML5DWQ6m43e7pdAoA6Ha7y+USAAAhlCQJ528Oh4PjuNcOIYSGwyGOUaVUKi0Wi1fp9Xqt1Woai3+0vR6PJxqN3q+ZTKZcLhsMBkEQGIY5n8/4kR85HA4IoVarpTGjp7cA+Hw+iqLejumQ2my28XjsdDrfTr6vlApN04VCIRAIAAAulwvHcZ+n+QvhcDidTq9WK/XpIYT5fB7TRRAERVGpVOp4PN6bJElSLpfDNPr9/nq9/tjNzWbTaDQwdVarNZFIbLdbhNB+v5/NZpPJJBQKeb3ezyXP5Y9EItVqVZZlCCHLsoIgYKb7P/gBgGv8RZckxtQAAAAASUVORK5CYII=\"/></div></div></div></td><td style=\"padding:1px;\"><div style=\"display:flex; align-items:left;\">\n",
       "      <div style=\"display:flex; flex-direction:column; align-items:center;\">\n",
       "      <div>id_1 8 9</div><div><img width=\"128\" height=\"128\" style=\"image-rendering:pixelated; object-fit:cover;\" src=\"data:image/png;base64,iVBORw0KGgoAAAANSUhEUgAAABwAAAAcCAIAAAD9b0jDAAABo0lEQVR4nO2Uu4rCQBSGx2VAQbyQIqABK7GxsVD7NGIpKEIKsRHBzsrWR7AQb50+gI2FpApYCJJSFBJtFZJCsBPBc2aLgLjCXhID2/hVw5nDxz/DmSHkzZt/hOO4Xq93OBwQERHX6zXHcc51yWSy2Wzquo6I8MBut0ulUrZ1gUCgXq8rimJZTNNcLpftdns0GhmGgYjj8dieURCE/X5v6WRZLpVKTw26rheLRRvGbDZ7PB4RcTqdVqvVYDBo1ePxeCaTsdb27pRSKssyIkqS9Fj3+XyqqpqmacN1h+d569SPxXw+r6oqAAyHw58CfbeBiNfr1ev18jxfKBSi0Wgul0un05RSxthsNnOSlBDS6XQA4D5Dp9NJ0zTGmGEY4XDYSVJCyGAwoJR6PB7G2OVy6ff7rVYrkUg0Go3z+eww6ROiKCLidrsVBMEdIyGkVqsBgJtGv9+/2WyehuFVKpUKAMznczelmqatVqtIJOKasdvtIqKiKH/s//i1IxQKiaLIGHst2FcWiwUA3G63crnsmtR6UZPJxDWjJEnW1xeLxVyTOuMT9wXlNDpoo0wAAAAASUVORK5CYII=\"/></div></div></div></td><td style=\"padding:1px;\"><div style=\"display:flex; align-items:left;\">\n",
       "      <div style=\"display:flex; flex-direction:column; align-items:center;\">\n",
       "      <div>id_0 9 5</div><div><img width=\"128\" height=\"128\" style=\"image-rendering:pixelated; object-fit:cover;\" src=\"data:image/png;base64,iVBORw0KGgoAAAANSUhEUgAAABwAAAAcCAIAAAD9b0jDAAABsklEQVR4nO3OT8spYRjH8ftQE40miQVlp/EnK5azkRUpZWGh1GSBUmxZewFWalbeBiVlZyExGzVolog7prEzdV3OQp2mszjnjGcWZ/F8l7+7+9NFyHff/Vv5fH40Gum6LstyIBD4khWPxyVJopQioqqq6/UaAKrV6peuo5QahqEoSr1e93q9DMMMh8PNZiMIwidis9l8Pp+3263RaJj3Wq0GAPf7neM4a2I2m0XEy+VSKBTMO8dx+/0eABDR5/NZEBmGWS6Xr9crlUr99iSKIiIi4ng8tnYmz/MAMJ1OHQ6Hefd4PIfDAQAAoFgsWkPD4fDj8ZjP506n89fIsux2uwUAwzAkSbImvhsMBogoSVImkwkGg+12ezKZvMVKpfKJSAgJhUKqqoIpRASAXq/3548//kqXy+V0Os3z/Pl8brVamqYlk8nT6fThpeZYllUUBRFFUbSBe9fpdABgt9u53W57xEgkous6AESjUXtEv9+/Wq0AYDab2SMSQkqlEiJSSm0TE4mEpmkA0O/3bUO73S4AyLLscrnsEWOx2PV6PR6PuVzOHpEQIggCIi4WC9vE/66fm9LoNBSr71cAAAAASUVORK5CYII=\"/></div></div></div></td></tr></table>"
      ],
      "text/plain": [
       "<IPython.core.display.HTML object>"
      ]
     },
     "metadata": {},
     "output_type": "display_data"
    }
   ],
   "source": [
    "key, subkey = jax.random.split(key)\n",
    "\n",
    "keys = jax.random.split(subkey, 8)\n",
    "new_data = jax.vmap(lambda key: init_state(key))(keys)\n",
    "\n",
    "key, subkey = jax.random.split(key)\n",
    "target = image_train[new_data[\"target_index\"]]\n",
    "task = new_data[\"task\"]\n",
    "input_labels = new_data[\"input_labels\"]\n",
    "\n",
    "titles = [\n",
    "    f\"{tasks[t.item()]} {t1.item()} {t2.item()}\"\n",
    "    for t, t1, t2 in zip(task, input_labels[:, 0], input_labels[:, 1])\n",
    "]\n",
    "\n",
    "mediapy.show_images(target, width=128, height=128, titles=titles)"
   ]
  },
  {
   "cell_type": "markdown",
   "metadata": {},
   "source": [
    "### Main Loop"
   ]
  },
  {
   "cell_type": "code",
   "execution_count": 49,
   "metadata": {},
   "outputs": [],
   "source": [
    "class Trainer:\n",
    "    def __init__(self, key, pool, ca, optimizer):\n",
    "        self.key = key\n",
    "        self.pool = pool\n",
    "        self.ca = ca\n",
    "        self.optimizer = optimizer\n",
    "\n",
    "    def train(self, n_steps):\n",
    "        pbar = tqdm(range(n_steps))\n",
    "        self.losses = [] if not hasattr(self, \"losses\") else self.losses\n",
    "\n",
    "        for i in pbar:\n",
    "            self.key, subkey = jax.random.split(self.key)\n",
    "            loss, pool = train_step(self.ca, self.optimizer, self.pool, subkey)\n",
    "            # pbar.set_postfix(loss=loss)\n",
    "            # Calculate smooth slope of the loss to gauge variations\n",
    "            window_size = n_steps // 100\n",
    "            self.losses.append(loss.mean())\n",
    "\n",
    "            if i >= window_size:\n",
    "                # Calculate moving average\n",
    "                window = jnp.array(self.losses[-window_size:])\n",
    "                moving_avg = jnp.mean(window)\n",
    "\n",
    "                # Calculate slope using first and last values in the window\n",
    "                slope = (window[-1] - window[0]) / (window_size - 1)\n",
    "\n",
    "                pbar.set_postfix(\n",
    "                    avg_loss=np.format_float_scientific(moving_avg, 3),\n",
    "                    slope=np.format_float_scientific(slope, 3),\n",
    "                )\n",
    "            else:\n",
    "                pbar.set_postfix(loss=np.format_float_scientific(loss.mean(), 3))\n",
    "\n",
    "            self.losses.append(loss.mean())\n",
    "        return self.losses, pool\n",
    "\n",
    "    def plot_loss(self):\n",
    "        v = len(self.losses) // 10\n",
    "        plt.plot(jnp.convolve(jnp.array(self.losses), jnp.ones(v) / v, mode=\"valid\"))\n",
    "\n",
    "        plt.show()"
   ]
  },
  {
   "cell_type": "code",
   "execution_count": 50,
   "metadata": {},
   "outputs": [
    {
     "name": "stdout",
     "output_type": "stream",
     "text": [
      "Number of params: 9982004\n"
     ]
    }
   ],
   "source": [
    "ca = get_model()\n",
    "optimizer, grad_params = get_optimizer(ca)\n",
    "pool = get_pool(key)\n",
    "\n",
    "trainer = Trainer(key, pool, ca, optimizer)"
   ]
  },
  {
   "cell_type": "code",
   "execution_count": 51,
   "metadata": {},
   "outputs": [],
   "source": [
    "pool_index, sample = pool.sample(key, sample_size=1)"
   ]
  },
  {
   "cell_type": "code",
   "execution_count": 52,
   "metadata": {},
   "outputs": [
    {
     "data": {
      "application/vnd.jupyter.widget-view+json": {
       "model_id": "888353a93e3b4d43a2ba4cabfbca9274",
       "version_major": 2,
       "version_minor": 0
      },
      "text/plain": [
       "  0%|          | 0/4096 [00:00<?, ?it/s]"
      ]
     },
     "metadata": {},
     "output_type": "display_data"
    },
    {
     "name": "stdout",
     "output_type": "stream",
     "text": [
      "(2, 28, 28, 1)\n",
      "(8, 28, 56, 1)\n"
     ]
    }
   ],
   "source": [
    "losses, pool = trainer.train(2**12)"
   ]
  },
  {
   "cell_type": "code",
   "execution_count": 32,
   "metadata": {},
   "outputs": [
    {
     "data": {
      "image/png": "[encoded data removed]",
      "text/plain": [
       "<Figure size 640x480 with 1 Axes>"
      ]
     },
     "metadata": {},
     "output_type": "display_data"
    }
   ],
   "source": [
    "trainer.plot_loss()"
   ]
  },
  {
   "cell_type": "markdown",
   "metadata": {},
   "source": [
    "## Visualize"
   ]
  },
  {
   "cell_type": "code",
   "execution_count": 33,
   "metadata": {},
   "outputs": [
    {
     "data": {
      "text/html": [
       "<table class=\"show_images\" style=\"border-spacing:0px;\"><tr><td style=\"padding:1px;\"><div style=\"display:flex; align-items:left;\">\n",
       "      <div style=\"display:flex; flex-direction:column; align-items:center;\">\n",
       "      <div>id_1 2 7</div><div><img width=\"128\" height=\"128\" style=\"image-rendering:pixelated; object-fit:cover;\" src=\"data:image/png;base64,iVBORw0KGgoAAAANSUhEUgAAABwAAAAcCAIAAAD9b0jDAAABeklEQVR4nO3SsaqCUBgH8M+LYEiu1RYEQRC9gxwj6AlCehCHBsHFwqFXaIqmxiIHt5qCLFqEQA0cbGuREK7e4cC53erebnjG/tM58Pnz7zkCvPMO1TDXm0aj0W63ybbVaiGEvkcZJk3T+7WiKIZhPOZHo9H5fP58PZZl/do0SRLy8ofZbDZBEOA1QojneQCI47jb7U6n0+tJ9ubJ3W43HA5d171HHcc5nU4AUCwW1+s1RgeDwY34I4fDYTweC4LwR1mcXq+HP9z3/XK5/HT+eTiOI0e/3+8fzny8JLIsO5/P8/k83i4Wi6wdAYDjOHLpx+OxXq9nFXmen0wmBG02mxRqGoZBRNM08e1nrTmbzbAYhqEoihRqiqJIauq6TkGs1Wqe52ExjuP//MvP0+/3iShJEgWxWq36vo/RKIooiACw3W7JaaqqSkHsdDqXywWLq9WqVCplFQuFgm3bpKYsyxRqappGRNd1K5VKVjGXyy2XS4JqmkahZpZ8AVpVJ8LKIacHAAAAAElFTkSuQmCC\"/></div></div></div></td><td style=\"padding:1px;\"><div style=\"display:flex; align-items:left;\">\n",
       "      <div style=\"display:flex; flex-direction:column; align-items:center;\">\n",
       "      <div>id_0 2 1</div><div><img width=\"128\" height=\"128\" style=\"image-rendering:pixelated; object-fit:cover;\" src=\"data:image/png;base64,iVBORw0KGgoAAAANSUhEUgAAABwAAAAcCAIAAAD9b0jDAAABnklEQVR4nO2UsYrCQBCGJ8dhIWwVCBoUu3SCoL2gZdC8gJ2mtPIFbAVLm9Q2gp1oJSL6CBYqsQoqCekCmmrHvWI5OO4SzlxSXOFXhN1l9uPfZDMAL8IplUrr9ZoxhoiIaBiGpmmSJMWS1mo13/cRkX6CiK7rKooSyzsYDG6322QycV2XSyml0+k0nU7/XUoIyWazACBJUrPZNAyDR87lcrHCfiWfz/P3OxwOw2reo0pVVWWMAQB/JoCiKNfrlR+/UqmElb1Fkqqqmslk+NhxnLCyaMcnhAiCAADdbvdyuUTaG0yxWLRtGxFXq5UoigkYRVE8HA6UUtu2kzESQrbbLf8+lmUlYASAVqvF76bneeVyOQGjLMvH45HH7PV6CRjr9fput+P/+2g0SqVScY26rvu+z5vI+XwuFApPbgy+p7Is9/v9drvNp4IgOI7zeDw0TTNNs9Pp8PXZbLbZbJ7NaFnWtx4aOB6Px88aAWC5XP4q3e/3vCX+RAhcrVarjUaD9yFd1wkh8/ncNE0AuN/vi8WCMXY6nTzPi5D0xb/jA8akIphXUFScAAAAAElFTkSuQmCC\"/></div></div></div></td><td style=\"padding:1px;\"><div style=\"display:flex; align-items:left;\">\n",
       "      <div style=\"display:flex; flex-direction:column; align-items:center;\">\n",
       "      <div>id_0 5 2</div><div><img width=\"128\" height=\"128\" style=\"image-rendering:pixelated; object-fit:cover;\" src=\"data:image/png;base64,iVBORw0KGgoAAAANSUhEUgAAABwAAAAcCAIAAAD9b0jDAAAB2klEQVR4nO2UT8gpURjGz9zInzRZyoJRNBZKYiI7C4vZilJmYe3PjqRG2SkpdrbK1mJWk2xEdpLFTBRKycJmZCNNmnPuQve7Xzfjoyzuwm93nvOep+ftPecA8OHDE3i9XoIgnqnEfqzAcTybzabTabvdfjgcotHoTScIwuFwDIfDr0qSJAOBQLVafWRnNBrD4fBoNIIQKt94sDydTgAAjZojRVHtdtvn830X+/2+JEkYhiGE/jaLYQghQRAEQZjNZqoZaZpeLpcQwslkUiwWGYYhSfJRU8/A87yiKIVCQaNRbeVlIISLxcJisbzNEQBQr9ev1+tut+t0Ovl8Ph6P6/X6N/iWSqX5fP41X1EUa7VaIpF4g7Xb7WZZluf57XYL/7Df75vNpsvlUjv18+W/YbPZUqmUyWSKRCKhUAghdLlcYrHYYDB4NmAul8tkMmq7TqfzeDwqitJqte4W/LqrBoNBhmHUTA0Gg1arBQCsVqtnYwIAut2uJEnhcPgfXafTsSx7e5fj8dhsNr9gSlGULMsQQo7jaJqmabpSqXAcdxsUQkgURavV+oLjjWQyeT6f7/4gjUYDx/EHZx9N3+PxlMtlv9+PYdh0Ol2v17Is93q9zWbzcsYP/yO/AcI4CECGf4fiAAAAAElFTkSuQmCC\"/></div></div></div></td><td style=\"padding:1px;\"><div style=\"display:flex; align-items:left;\">\n",
       "      <div style=\"display:flex; flex-direction:column; align-items:center;\">\n",
       "      <div>id_0 2 7</div><div><img width=\"128\" height=\"128\" style=\"image-rendering:pixelated; object-fit:cover;\" src=\"data:image/png;base64,iVBORw0KGgoAAAANSUhEUgAAABwAAAAcCAIAAAD9b0jDAAABWklEQVR4nO2Uv+uCQBTAe5KTg5OzQgji/6BrtDg1Vn9Brv4D0ZxjguDgGjREa39FeLiJU4NDTQ3eed/hQPrS+YNw9DM9vOfn3r3nOZmM8AjDME1T0zSHlF6vV4xxFEW6rkuSNKSUcT6ffd8HAAAYTMoghFwulz7vCk0LSZJ8P1QURVGU3yuVJGk+n+/3e4TQ6/VilWKMV6vV79JPHMe53W5MihAaRsqglBJCCCHb7bY9s7GnnywWizRNq6qilFJKO/O7pZqmeZ43m836bM+YtqwBwOFwWK/Xsiw35SyXS8uyEELH47Fjq81mc7/fyX/qnnLjx+Phum6b8f1+4y/Y9NtjZuD0VJZlURQ7ztJKr+n35HQ6sYAzKNu2uT8OQRCqqvqMn89nHMcAsNvtiqKoMzlSwzDqjzHLsvoKAUCSJEEQ1JllWeZ5/m3gVKSqqmEYLM7zfOB7OTLyA38y2QsYjA4oaQAAAABJRU5ErkJggg==\"/></div></div></div></td><td style=\"padding:1px;\"><div style=\"display:flex; align-items:left;\">\n",
       "      <div style=\"display:flex; flex-direction:column; align-items:center;\">\n",
       "      <div>id_1 2 5</div><div><img width=\"128\" height=\"128\" style=\"image-rendering:pixelated; object-fit:cover;\" src=\"data:image/png;base64,iVBORw0KGgoAAAANSUhEUgAAABwAAAAcCAIAAAD9b0jDAAABiklEQVR4nO2Su4rCQBSGZ2FbLxDF1iIExcLGzkLIG4gWBrGwSafgO5jaUhACwuKlERT0FSzsFBFGSEQsA2Zao0ctZjdIVMxkt9jCr5r5mfPNmQtCb978KR8u10mSFIlEBoPBbrcLh8PFYjEYDNZqNYSQZVmKokyn09ls5nZbnueXy6VlWQBACDEMY7/fwx3D4dAu+Xwp7Xa78Xicjn0+38M15/PZMAy30mw2m0wmHSEhZDKZ2NPD4VCv17fb7cv+vvH7/aPRiB6w1WoJgiAIQjQadVv/jEAggDEGgE6n81vXLfP5nL5SKpXyUi+KIs/zjrBQKBBCAGA8HnMcxyy9XC6bzSYWizlySZKot9/vM0vb7TYA6LpufyMbWZYBwDTNXC7HJpVl+XQ6AYCmaQ5vKBSil2uaZjqdZvMuFovj8Ui9lUrlvlkAyOfzbFKEkKqqtFjTtK8fMplMs9mkea/XY5YmEon1ek37fchqtWKWUhqNxjOvdylCqFwuV6tVjDG5AWNcKpW8S9/8F67zLSPNE6cM7gAAAABJRU5ErkJggg==\"/></div></div></div></td><td style=\"padding:1px;\"><div style=\"display:flex; align-items:left;\">\n",
       "      <div style=\"display:flex; flex-direction:column; align-items:center;\">\n",
       "      <div>id_1 2 1</div><div><img width=\"128\" height=\"128\" style=\"image-rendering:pixelated; object-fit:cover;\" src=\"data:image/png;base64,iVBORw0KGgoAAAANSUhEUgAAABwAAAAcCAIAAAD9b0jDAAAAoElEQVR4nO3QMQrEIBCF4bCksBALD5DKC3iNnMtTSM5gkyr3sBhygtQSGyEzWy2kM8Kwxa5/PXw8Zhh6v5NzDhGJaF1XKWX1/vUEJSIiQsR5nrXWPGhrHe3o1zPGAMD1aZomBnTbtusWD2qtbUXrP933PYTQtKOO5pwBgBkVQrT+sY6O46iUYkbP84wxMqP3vPfHcXCiKaVlWUopTTv+sDcSDldjAoYw+wAAAABJRU5ErkJggg==\"/></div></div></div></td><td style=\"padding:1px;\"><div style=\"display:flex; align-items:left;\">\n",
       "      <div style=\"display:flex; flex-direction:column; align-items:center;\">\n",
       "      <div>id_0 1 7</div><div><img width=\"128\" height=\"128\" style=\"image-rendering:pixelated; object-fit:cover;\" src=\"data:image/png;base64,iVBORw0KGgoAAAANSUhEUgAAABwAAAAcCAIAAAD9b0jDAAABIElEQVR4nO2UoaqEQBiFR7mwiDBV4waDYS2+hYhg02zYd9iX8BHWFzBYbBarIBhEpgg2wS6C/MPc4L2yaXf2OnDLfumE48cZBgehD//L6XSqqopSWtf1k5r8ltR1Xdu2GWOMsWPzHmiaBgAAYJomy7LESCmlADDPc57nuq4LMAZBsEkJIQJ0CKHz+UwI4ZTyXpTneYZhbDlJkkMDd9q2BQBK6TiOGGMBxjAM13XdpFmWvexzHV9RFFn+aRZF8bL/xSO93W6SJCGEZFnewlHpNnP7hZZlKcuSZ8cLrtcr/DIMgwAjxrjrul0aRZEAqeM48ADnV++9UmKkpmnu+X6/i5H6vr9nTdPESB/p+56//IzL5ZKmKQDEcayqqhjphz/wDdTElN+wXMIKAAAAAElFTkSuQmCC\"/></div></div></div></td><td style=\"padding:1px;\"><div style=\"display:flex; align-items:left;\">\n",
       "      <div style=\"display:flex; flex-direction:column; align-items:center;\">\n",
       "      <div>id_1 1 1</div><div><img width=\"128\" height=\"128\" style=\"image-rendering:pixelated; object-fit:cover;\" src=\"data:image/png;base64,iVBORw0KGgoAAAANSUhEUgAAABwAAAAcCAIAAAD9b0jDAAABI0lEQVR4nO3UsYqDQBAG4PU4UgiCrYWkCfY+gPgA2ouIZZ7DFzCNIIitYKeNpZ2N1jb2SUgnhEAQhJm9IpxccVw0bnXkb3fnYxZ+lpB3/m1EUUzTlFLqOM6vFz5eQBVFsSwLESVJWrfeD/FyuQBAGIabzYYNmiQJIp7P5+12y0bUNO12u12vV9u22YiCILRtCwDH45GNyPN8lmUAAAD7/Z4NKsvyQ4yiiI1ICInjGBHv97thGGxE0zQREQBc151zf1b5H9v1fd80zartpnieN44jIgZBwEYkhNR1jYin02n+yJPnK4qy2+0opUVRrNvtO1M3u65j9ndM3fR9f9Hg5x9nuq5zHEcIqaqKGaqqKqU0z/OyLBehz3t6OByGYWCMvrM0X10riHVDsNYFAAAAAElFTkSuQmCC\"/></div></div></div></td></tr></table>"
      ],
      "text/plain": [
       "<IPython.core.display.HTML object>"
      ]
     },
     "metadata": {},
     "output_type": "display_data"
    },
    {
     "data": {
      "text/html": [
       "<table class=\"show_videos\" style=\"border-spacing:0px;\"><tr><td style=\"padding:1px;\"><img width=\"128\" height=\"128\" style=\"image-rendering:pixelated; object-fit:cover;\" src=\"data:image/gif;base64,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\"/></td><td style=\"padding:1px;\"><img width=\"128\" height=\"128\" style=\"image-rendering:pixelated; object-fit:cover;\" src=\"data:image/gif;base64,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\"/></td><td style=\"padding:1px;\"><img width=\"128\" height=\"128\" style=\"image-rendering:pixelated; object-fit:cover;\" src=\"data:image/gif;base64,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\"/></td><td style=\"padding:1px;\"><img width=\"128\" height=\"128\" style=\"image-rendering:pixelated; object-fit:cover;\" src=\"data:image/gif;base64,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\"/></td><td style=\"padding:1px;\"><img width=\"128\" height=\"128\" style=\"image-rendering:pixelated; object-fit:cover;\" src=\"data:image/gif;base64,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\"/></td><td style=\"padding:1px;\"><img width=\"128\" height=\"128\" style=\"image-rendering:pixelated; object-fit:cover;\" src=\"data:image/gif;base64,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\"/></td><td style=\"padding:1px;\"><img width=\"128\" height=\"128\" style=\"image-rendering:pixelated; object-fit:cover;\" src=\"data:image/gif;base64,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\"/></td><td style=\"padding:1px;\"><img width=\"128\" height=\"128\" style=\"image-rendering:pixelated; object-fit:cover;\" src=\"data:image/gif;base64,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\"/></td></tr></table>"
      ],
      "text/plain": [
       "<IPython.core.display.HTML object>"
      ]
     },
     "metadata": {},
     "output_type": "display_data"
    }
   ],
   "source": [
    "key, subkey = jax.random.split(key)\n",
    "\n",
    "keys = jax.random.split(subkey, 8)\n",
    "new_data = jax.vmap(init_state)(keys)\n",
    "\n",
    "key, subkey = jax.random.split(key)\n",
    "target = image_train[new_data[\"target_index\"]]\n",
    "task = new_data[\"task\"]\n",
    "input_labels = new_data[\"input_labels\"]\n",
    "\n",
    "input = jnp.concatenate(\n",
    "    [\n",
    "        image_train[new_data[\"input_index\"][:, 0]],\n",
    "        image_train[new_data[\"input_index\"][:, 1]],\n",
    "    ],\n",
    "    axis=-2,\n",
    ")\n",
    "\n",
    "if one_hot_context_task:\n",
    "    context = jax.nn.one_hot(task, num_classes=n_tasks)\n",
    "elif one_hot_context_input:\n",
    "    context = jax.nn.one_hot(\n",
    "        input_labels[:, 0], num_classes=n_classes\n",
    "    ) + jax.nn.one_hot(input_labels[:, 1], num_classes=n_classes)\n",
    "elif encode_context:\n",
    "    context = ca.encode(input, subkey)\n",
    "else:\n",
    "    context = jnp.zeros((batch_size, context_size))\n",
    "\n",
    "titles = [\n",
    "    f\"{tasks[t.item()]} {t1.item()} {t2.item()}\"\n",
    "    for t, t1, t2 in zip(task, input_labels[:, 0], input_labels[:, 1])\n",
    "]\n",
    "\n",
    "state = nnx.vmap(\n",
    "    lambda state, input: ca(state, input, num_steps=2 * num_steps, all_steps=True)\n",
    ")(new_data[\"state\"], context)\n",
    "\n",
    "mediapy.show_images(target, width=128, height=128, titles=titles)\n",
    "mediapy.show_videos(\n",
    "    jnp.squeeze(state_to_alive(state)), width=128, height=128, codec=\"gif\"\n",
    ")"
   ]
  },
  {
   "cell_type": "code",
   "execution_count": null,
   "metadata": {},
   "outputs": [],
   "source": []
  }
 ],
 "metadata": {
  "kernelspec": {
   "display_name": "nca",
   "language": "python",
   "name": "python3"
  },
  "language_info": {
   "codemirror_mode": {
    "name": "ipython",
    "version": 3
   },
   "file_extension": ".py",
   "mimetype": "text/x-python",
   "name": "python",
   "nbconvert_exporter": "python",
   "pygments_lexer": "ipython3",
   "version": "3.12.4"
  }
 },
 "nbformat": 4,
 "nbformat_minor": 2
}
